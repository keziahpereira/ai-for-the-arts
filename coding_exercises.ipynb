{
 "cells": [
  {
   "cell_type": "markdown",
   "metadata": {},
   "source": []
  },
  {
   "cell_type": "markdown",
   "metadata": {},
   "source": [
    "# Key Learnings\n",
    "In this exercise, I learned how to write my first Python code and use GitHub Codespaces to run and test it. I also learned how to use Microsoft Copilot to get code suggestions and troubleshoot errors.\n"
   ]
  },
  {
   "cell_type": "code",
   "execution_count": null,
   "metadata": {},
   "outputs": [
    {
     "name": "stdout",
     "output_type": "stream",
     "text": [
      "5 + 3 = 8\n",
      "10 - 4 = 6\n",
      "7 * 2 = 14\n",
      "8 / 2 = 4.0\n"
     ]
    }
   ],
   "source": [
    "# This code performs basic arithmetic operations and prints the results -suggested by Microsoft Co pilot\n",
    "\n",
    "# Addition\n",
    "sum_result = 5 + 3\n",
    "print(\"5 + 3 =\", sum_result)\n",
    "\n",
    "# Subtraction\n",
    "difference_result = 10 - 4\n",
    "print(\"10 - 4 =\", difference_result)\n",
    "\n",
    "# Multiplication\n",
    "product_result = 7 * 2\n",
    "print(\"7 * 2 =\", product_result)\n",
    "\n",
    "# Division\n",
    "quotient_result = 8 / 2\n",
    "print(\"8 / 2 =\", quotient_result)"
   ]
  },
  {
   "cell_type": "code",
   "execution_count": null,
   "metadata": {},
   "outputs": [],
   "source": [
    "print(\"Hello, World!\")\n"
   ]
  },
  {
   "cell_type": "markdown",
   "metadata": {},
   "source": [
    "# Hello, World!\n",
    "\n",
    "The following code was created as my first attempt at programming in this course. It is meant to help me understand how to write and run code in GitHub Codespaces.\n"
   ]
  },
  {
   "cell_type": "markdown",
   "metadata": {},
   "source": [
    "# Coding Exercises Notebook\n",
    "\n",
    "This notebook is designed for learning basic programming concepts and practicing different coding exercises. The aim is to help improve my programming skills through hands-on practice.\n",
    "\n",
    "## Goals:\n",
    "- Learn how to write basic Python programs.\n",
    "- Understand how loops and conditionals work in programming.\n",
    "- Get comfortable working with functions and lists.\n",
    "- Experiment with coding challenges and small projects.\n"
   ]
  }
 ],
 "metadata": {
  "kernelspec": {
   "display_name": "Python 3",
   "language": "python",
   "name": "python3"
  },
  "language_info": {
   "codemirror_mode": {
    "name": "ipython",
    "version": 3
   },
   "file_extension": ".py",
   "mimetype": "text/x-python",
   "name": "python",
   "nbconvert_exporter": "python",
   "pygments_lexer": "ipython3",
   "version": "3.12.1"
  }
 },
 "nbformat": 4,
 "nbformat_minor": 2
}
